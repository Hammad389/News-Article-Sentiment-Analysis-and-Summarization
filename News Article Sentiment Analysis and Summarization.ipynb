{
 "cells": [
  {
   "cell_type": "code",
   "execution_count": null,
   "id": "c6afdbe2-31a9-4305-9672-c5da41691e96",
   "metadata": {},
   "outputs": [],
   "source": []
  }
 ],
 "metadata": {
  "kernelspec": {
   "display_name": "",
   "name": ""
  },
  "language_info": {
   "name": ""
  }
 },
 "nbformat": 4,
 "nbformat_minor": 5
}
